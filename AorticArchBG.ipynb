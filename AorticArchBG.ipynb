{
 "cells": [
  {
   "cell_type": "code",
   "execution_count": 1,
   "metadata": {},
   "outputs": [],
   "source": [
    "from math import pi as pi\n",
    "from math import sqrt as sqrt\n",
    "import BondGraphTools as bgt \n",
    "\n",
    "List = []\n",
    "with open('bgt_test_opencor.cco') as f:\n",
    "    for line in f:\n",
    "        miniList = [elt.strip() for elt in line.split(',')]\n",
    "        List.append(miniList)\n",
    "\n",
    "vesselsNum = int(List[4][0]) # Number of the total vessels \n",
    "vesselsInfo=[]\n",
    "for i in range(5,vesselsNum+5): # locations of the vessels' information\n",
    "    vesselsInfo.append([float(x) for x in List[i][0].split()])\n",
    "\n",
    "connectionInfo=[]\n",
    "for i in range(12,len(List)): # locations of the connections' information\n",
    "    connectionInfo.append([int(x) for x in List[i][0].split()])\n"
   ]
  },
  {
   "cell_type": "code",
   "execution_count": 2,
   "metadata": {},
   "outputs": [
    {
     "data": {
      "text/plain": [
       "[[0.0, 0.012, 0.00643],\n",
       " [1.0, 0.01233, 0.00503],\n",
       " [2.0, 0.007785, 0.00356],\n",
       " [3.0, 0.01574, 0.00275]]"
      ]
     },
     "execution_count": 2,
     "metadata": {},
     "output_type": "execute_result"
    }
   ],
   "source": [
    "vesselsInfo"
   ]
  },
  {
   "cell_type": "code",
   "execution_count": 3,
   "metadata": {},
   "outputs": [
    {
     "data": {
      "text/plain": [
       "[[0, -1, 1], [1, 0, 2, 3], [2, 1], [3, 1]]"
      ]
     },
     "execution_count": 3,
     "metadata": {},
     "output_type": "execute_result"
    }
   ],
   "source": [
    "connectionInfo"
   ]
  },
  {
   "cell_type": "code",
   "execution_count": 4,
   "metadata": {
    "code_folding": []
   },
   "outputs": [],
   "source": [
    "def RCILCal(vesselsNum,vesselsInfo): # gathers all the lengths of the vessels along with their IDs as keys\n",
    "    from math import pi as pi        # and calculates R, C, and I for each vessel\n",
    "    from math import sqrt as sqrt\n",
    "    from math import exp as exp\n",
    "    \n",
    "    # Constant Parameters\n",
    "    bloodViscosity=0.004\n",
    "    E=0.6*1e6         # Young's modulus\n",
    "    bloodDensity=1050\n",
    "    a=0.2802      # vessel thickness\n",
    "    b=-505.3      # vessel thickness\n",
    "    c=0.1324      # vessel thickness\n",
    "    d=-11.14      # vessel thickness\n",
    "    \n",
    "    vesselLength={}; RVal={}; CVal={}; IVal={}; RdVal={};\n",
    "    for i in range(vesselsNum):  \n",
    "\n",
    "        vesselID=int(vesselsInfo[i][0]) \n",
    "        RVal[vesselID]=[]\n",
    "        CVal[vesselID]=[]\n",
    "        IVal[vesselID]=[]\n",
    "        RdVal[vesselID]=[]\n",
    "\n",
    "\n",
    "        radius=vesselsInfo[i][2]\n",
    "\n",
    "        vesselThickness=radius*(a*exp(b*radius)+c*exp(d*radius))\n",
    "\n",
    "        vesselLength=vesselsInfo[i][1]\n",
    "\n",
    "        RVal[vesselID]=(8*bloodViscosity*vesselLength)/(pi*pow(radius,4))\n",
    "\n",
    "        CVal[vesselID]=(2*pi*pow(radius,3)*vesselLength)/(vesselThickness*E)\n",
    "\n",
    "        IVal[vesselID]=(bloodDensity*vesselLength)/(pi*pow(radius,2))\n",
    "        \n",
    "        RdVal[vesselID]=0.01/CVal[vesselID]\n",
    "        \n",
    "        \n",
    "    CVal[0]=CVal[0]/2\n",
    "\n",
    "    return [RVal,CVal,IVal,RdVal]"
   ]
  },
  {
   "cell_type": "code",
   "execution_count": 5,
   "metadata": {},
   "outputs": [],
   "source": [
    "[RVal,CVal,IVal,RdVal]=RCILCal(vesselsNum,vesselsInfo)"
   ]
  },
  {
   "cell_type": "code",
   "execution_count": 6,
   "metadata": {},
   "outputs": [
    {
     "data": {
      "text/plain": [
       "{0: 258148446.78926486,\n",
       " 1: 450731907.2349104,\n",
       " 2: 1680410952.6539164,\n",
       " 3: 1590237053.8151472}"
      ]
     },
     "execution_count": 6,
     "metadata": {},
     "output_type": "execute_result"
    }
   ],
   "source": [
    "RdVal"
   ]
  },
  {
   "cell_type": "code",
   "execution_count": 7,
   "metadata": {},
   "outputs": [
    {
     "data": {
      "text/plain": [
       "{0: 97006.0289398635,\n",
       " 1: 162879.53952145763,\n",
       " 2: 205304.30084094903,\n",
       " 3: 695630.7423417533}"
      ]
     },
     "execution_count": 7,
     "metadata": {},
     "output_type": "execute_result"
    }
   ],
   "source": [
    "IVal"
   ]
  },
  {
   "cell_type": "code",
   "execution_count": 8,
   "metadata": {},
   "outputs": [
    {
     "data": {
      "text/plain": [
       "{0: 71505.17271320346,\n",
       " 1: 196196.49384528364,\n",
       " 2: 493695.002052288,\n",
       " 3: 2803328.926241462}"
      ]
     },
     "execution_count": 8,
     "metadata": {},
     "output_type": "execute_result"
    }
   ],
   "source": [
    "RVal"
   ]
  },
  {
   "cell_type": "code",
   "execution_count": 9,
   "metadata": {},
   "outputs": [
    {
     "data": {
      "text/plain": [
       "{0: 1.9368700692131864e-11,\n",
       " 1: 2.218613734569327e-11,\n",
       " 2: 5.950925268730689e-12,\n",
       " 3: 6.2883706400935264e-12}"
      ]
     },
     "execution_count": 9,
     "metadata": {},
     "output_type": "execute_result"
    }
   ],
   "source": [
    "CVal"
   ]
  },
  {
   "cell_type": "code",
   "execution_count": 10,
   "metadata": {
    "code_folding": []
   },
   "outputs": [],
   "source": [
    "def bgComp(vesselsNum,RVal,CVal,IVal,RdVal):   \n",
    "    import numpy as np\n",
    "    import BondGraphTools as bgt\n",
    "    \n",
    "    R={}; C={}; I={}; Rd={}; one_junc_a={}; zero_junc={}; one_junc_b={}\n",
    "    \n",
    "    for v in range(vesselsNum):\n",
    "        \n",
    "        R[v]=[]\n",
    "        C[v]=[]\n",
    "        I[v]=[]\n",
    "        Rd[v]=[]\n",
    "        one_junc_a[v]=[]\n",
    "        one_junc_b[v]=[]\n",
    "        zero_junc[v]=[]\n",
    "        \n",
    "        R[v]=bgt.new(\"R\", value=RVal[v], name='R_'+str(v))\n",
    "        C[v]=bgt.new(\"C\", value=CVal[v], name='C_'+str(v))\n",
    "        I[v]=bgt.new(\"I\", value=IVal[v], name='I_'+str(v))\n",
    "        Rd[v]=bgt.new(\"R\", value=RdVal[v], name='Rd_'+str(v))\n",
    "        \n",
    "        zero_junc[v]=bgt.new(\"0\", name='zero_junc_'+str(v))\n",
    "        one_junc_a[v]=bgt.new(\"1\", name='one_junc_a_'+str(v))\n",
    "        one_junc_b[v]=bgt.new(\"1\", name='one_junc_b_'+str(v))\n",
    "        \n",
    "    return [R,C,I,Rd,one_junc_a,one_junc_b,zero_junc]"
   ]
  },
  {
   "cell_type": "code",
   "execution_count": 11,
   "metadata": {},
   "outputs": [],
   "source": [
    "[R,C,I,Rd,one_junc_a,one_junc_b,zero_junc]=bgComp(vesselsNum,RVal,CVal,IVal,RdVal)"
   ]
  },
  {
   "cell_type": "code",
   "execution_count": 12,
   "metadata": {
    "code_folding": []
   },
   "outputs": [],
   "source": [
    "def CBR_sorting(C,R,I,zero_junc,one_junc_a,one_junc_b,Rd):\n",
    "    # By the following appending, all the same components in each model are put together\n",
    "    # So we need to separate them and gather all the components of each model in a row\n",
    "    CBR=[]\n",
    "    CBR.append([one_junc_a,one_junc_b,zero_junc,R,I,C,Rd]) \n",
    "    \n",
    "    connectivity_bonds_row=[]\n",
    "    for j in range(len(CBR[0][0])):\n",
    "        for i in range(len(CBR[0])):\n",
    "            connectivity_bonds_row.append(CBR[0][i][j])\n",
    "            \n",
    "    connectivity_bonds_column=connectivity_bonds_row\n",
    "            \n",
    "    return [connectivity_bonds_column,connectivity_bonds_row]        "
   ]
  },
  {
   "cell_type": "code",
   "execution_count": 13,
   "metadata": {},
   "outputs": [],
   "source": [
    "\n",
    "[connectivity_bonds_column,connectivity_bonds_row] =CBR_sorting(C,R,I,zero_junc,one_junc_a,one_junc_b,Rd)"
   ]
  },
  {
   "cell_type": "code",
   "execution_count": 14,
   "metadata": {},
   "outputs": [],
   "source": [
    "import BondGraphTools as bgt\n",
    "model=bgt.new(name='bgt test')\n",
    "for v in range(vesselsNum):\n",
    "    bgt.add(model,R[v],C[v],I[v],one_junc_a[v],one_junc_b[v],zero_junc[v],Rd[v])"
   ]
  },
  {
   "cell_type": "code",
   "execution_count": 15,
   "metadata": {
    "code_folding": []
   },
   "outputs": [],
   "source": [
    "def CM_Creation(vesselsNum):\n",
    "    import numpy as np\n",
    "    from copy import copy, deepcopy\n",
    "    \n",
    "    #  connectivity matrix for one vessel\n",
    "    connectivity_matrix_v=[[0,0,1,1,1,0,0],\n",
    "                           [0,0,0,0,0,1,1],\n",
    "                           [0,1,0,0,0,0,0],\n",
    "                           [0,0,0,0,0,0,0],\n",
    "                           [0,0,0,0,0,0,0],\n",
    "                           [0,0,0,0,0,0,0],\n",
    "                           [0,0,0,0,0,0,0]]\n",
    "    \n",
    "    CM={}\n",
    "    \n",
    "    # Creating a dictionary with empty lists for adding the connectivity matrices for each sub-system\n",
    "    for n in range(vesselsNum):\n",
    "        CM[str(n)]=deepcopy(connectivity_matrix_v)\n",
    "    \n",
    "\n",
    "    Length=0\n",
    "    for n in range(vesselsNum):\n",
    "        Length+=len(CM[str(n)])\n",
    "    connectivity_matrix_0=np.zeros((Length,Length))  \n",
    "\n",
    "    \n",
    "    k=0\n",
    "    for n in range(vesselsNum):\n",
    "        for i in range(k,k+len(CM[str(n)])):\n",
    "            for j in range(k,k+len(CM[str(n)])):\n",
    "                connectivity_matrix_0[i][j]=deepcopy(CM[str(n)][i-k][j-k])\n",
    "        k+=len(CM[str(n)])\n",
    "        \n",
    "    return connectivity_matrix_0\n",
    "                           "
   ]
  },
  {
   "cell_type": "code",
   "execution_count": 16,
   "metadata": {},
   "outputs": [],
   "source": [
    "connectivity_matrix_0=CM_Creation(vesselsNum)"
   ]
  },
  {
   "cell_type": "code",
   "execution_count": 17,
   "metadata": {
    "code_folding": []
   },
   "outputs": [],
   "source": [
    "def vesselConnect(connectionInfo,connectivity_bonds_row,connectivity_matrix_0):\n",
    "    import numpy as np\n",
    "    from copy import copy, deepcopy\n",
    "    \n",
    "    Name=[]\n",
    "    for i in range(len(connectionInfo)):        \n",
    "        \n",
    "        if len(connectionInfo[i]) ==4:\n",
    "\n",
    "            Name.append('zero_junc_'+str(connectionInfo[i][1]))\n",
    "            Name.append('one_junc_a_'+str(connectionInfo[i][0]))\n",
    "            \n",
    "            Name.append('zero_junc_'+str(connectionInfo[i][0]))\n",
    "            Name.append('one_junc_a_'+str(connectionInfo[i][2]))\n",
    "            \n",
    "            \n",
    "            Name.append('zero_junc_'+str(connectionInfo[i][0]))\n",
    "            Name.append('one_junc_a_'+str(connectionInfo[i][3]))\n",
    "            \n",
    "    Connection_between_models=[]\n",
    "    for i in range(0,len(Name)): \n",
    "        for index in range(len(connectivity_bonds_row)):\n",
    "                if Name[i] == connectivity_bonds_row[index].name:\n",
    "                    Connection_between_models.append(index)\n",
    "                    break\n",
    "\n",
    "    connectivity_matrix=deepcopy(connectivity_matrix_0)\n",
    "    for i in range(0,len(Connection_between_models),2):\n",
    "        II=Connection_between_models[i]\n",
    "        JJ=Connection_between_models[i+1]\n",
    "        connectivity_matrix[II][JJ]=1        \n",
    "    \n",
    "    return connectivity_matrix\n",
    "    "
   ]
  },
  {
   "cell_type": "code",
   "execution_count": 18,
   "metadata": {},
   "outputs": [],
   "source": [
    "connectivity_matrix=vesselConnect(connectionInfo,connectivity_bonds_row,connectivity_matrix_0)"
   ]
  },
  {
   "cell_type": "code",
   "execution_count": 19,
   "metadata": {
    "code_folding": []
   },
   "outputs": [],
   "source": [
    "def BondsConnection(connectivity_matrix,connectivity_bonds_row,connectivity_bonds_column):\n",
    "    import numpy as np\n",
    "    import BondGraphTools as bgt\n",
    "# Creating the bonds between the components based on the elements of the connectivity matrix\n",
    "    Length=len(connectivity_matrix)\n",
    "    bonds=[]  \n",
    "    for i in range(Length):\n",
    "        for j in range(Length):\n",
    "            if connectivity_matrix[i][j]==1:\n",
    "                bonds.append((connectivity_bonds_row[i],connectivity_bonds_column[j]))\n",
    "            else:\n",
    "                m=0\n",
    "    \n",
    "    \n",
    "    # connecting the components for a bond graph representation of the system\n",
    "    for head, tail in bonds:\n",
    "        bgt.connect(head,tail)\n",
    "    \n",
    "    return bonds"
   ]
  },
  {
   "cell_type": "code",
   "execution_count": 20,
   "metadata": {},
   "outputs": [],
   "source": [
    "bonds=BondsConnection(connectivity_matrix,connectivity_bonds_row,connectivity_bonds_column)"
   ]
  },
  {
   "cell_type": "code",
   "execution_count": 21,
   "metadata": {},
   "outputs": [
    {
     "data": {
      "text/plain": [
       "27"
      ]
     },
     "execution_count": 21,
     "metadata": {},
     "output_type": "execute_result"
    }
   ],
   "source": [
    "len(model.bonds)"
   ]
  },
  {
   "cell_type": "code",
   "execution_count": 22,
   "metadata": {
    "code_folding": []
   },
   "outputs": [],
   "source": [
    "def inputConnection(model,one_junc_a):\n",
    "    import numpy as np\n",
    "    import BondGraphTools as bgt\n",
    "\n",
    "    Sf=bgt.new(\"Sf\",name='Sf_in')\n",
    "    C_00=bgt.new(\"C\", value=CVal[0], name='C_00')  #CVal[0] was previously reduced to half\n",
    "    zero_junc_00=bgt.new(\"0\", name='zero_junc_00')\n",
    "    \n",
    "    bgt.add(model,Sf,C_00,zero_junc_00)\n",
    "    \n",
    "    bgt.connect(Sf,zero_junc_00)\n",
    "    bgt.connect(zero_junc_00,C_00)\n",
    "    bgt.connect(zero_junc_00,one_junc_a[0])\n",
    "    \n",
    "\n",
    "    return model"
   ]
  },
  {
   "cell_type": "code",
   "execution_count": 23,
   "metadata": {},
   "outputs": [],
   "source": [
    "model=inputConnection(model,one_junc_a)"
   ]
  },
  {
   "cell_type": "code",
   "execution_count": 24,
   "metadata": {},
   "outputs": [
    {
     "data": {
      "text/plain": [
       "30"
      ]
     },
     "execution_count": 24,
     "metadata": {},
     "output_type": "execute_result"
    }
   ],
   "source": [
    "len(model.bonds)"
   ]
  },
  {
   "cell_type": "code",
   "execution_count": 25,
   "metadata": {},
   "outputs": [],
   "source": [
    "def Get_Boundary(vesselsNum,bonds,model,zero_junc):\n",
    "    import BondGraphTools as bgt\n",
    "\n",
    "    count_zero_junc={}\n",
    "\n",
    "    for m in range(0,vesselsNum):\n",
    "        itr=0\n",
    "\n",
    "        for i in range(0,len(bonds)):\n",
    "            for j in range(0,2):\n",
    "                \n",
    "                if bonds[i][j].name=='zero_junc_'+str(m):\n",
    "                    itr += 1\n",
    "                    count_zero_junc[str(m)]=itr\n",
    "\n",
    "                    \n",
    "    Se=[]; Rt=[]; It=[]; one_junc_t=[];\n",
    "    i=0\n",
    "    for m in range(0,vesselsNum):\n",
    "        if count_zero_junc[str(m)] ==2:\n",
    "            R[m].set_param('r',RVal[m]/2)\n",
    "            I[m].set_param('L',IVal[m]/2)\n",
    "            \n",
    "            Se.append(bgt.new(\"Se\", value=0, name='Se_'+str(m)))    \n",
    "            Rt.append(bgt.new(\"R\", value=RVal[m]/2, name='Rt_'+str(m))) # R in terminal\n",
    "            It.append(bgt.new(\"I\", value=IVal[m]/2, name='It_'+str(m))) # I in terminal\n",
    "            one_junc_t.append(bgt.new(\"1\", name='one_junc_t'+str(m)))   # 1-junc in terminal\n",
    "            \n",
    "            bgt.add(model,Se[i],Rt[i],It[i],one_junc_t[i])\n",
    "            \n",
    "            bgt.connect(zero_junc[m],one_junc_t[i])\n",
    "            bgt.connect(one_junc_t[i],Rt[i])\n",
    "            bgt.connect(one_junc_t[i],It[i])\n",
    "            bgt.connect(Se[i],one_junc_t[i])\n",
    "\n",
    "\n",
    "            i+=1\n",
    "\n",
    "                    \n",
    "    return model"
   ]
  },
  {
   "cell_type": "code",
   "execution_count": 26,
   "metadata": {},
   "outputs": [],
   "source": [
    "model=Get_Boundary(vesselsNum,bonds,model,zero_junc)"
   ]
  },
  {
   "cell_type": "code",
   "execution_count": 27,
   "metadata": {},
   "outputs": [],
   "source": [
    "def combineDict(x0,vesselsNum):\n",
    "    incKey = 0\n",
    "    newDict = {}\n",
    "    for m in range(vesselsNum):\n",
    "        for val in x0:\n",
    "            newDict['x_'+str(incKey)] = val\n",
    "            incKey+=1\n",
    "    return newDict"
   ]
  },
  {
   "cell_type": "code",
   "execution_count": 28,
   "metadata": {},
   "outputs": [],
   "source": [
    "x0=[0]\n",
    "    \n",
    "x_0=combineDict(x0,len(model.state_vars))"
   ]
  },
  {
   "cell_type": "code",
   "execution_count": 29,
   "metadata": {},
   "outputs": [
    {
     "data": {
      "text/plain": [
       "{'x_0': (C: C_0, 'q_0'),\n",
       " 'x_1': (I: I_0, 'p_0'),\n",
       " 'x_2': (C: C_1, 'q_0'),\n",
       " 'x_3': (I: I_1, 'p_0'),\n",
       " 'x_4': (C: C_2, 'q_0'),\n",
       " 'x_5': (I: I_2, 'p_0'),\n",
       " 'x_6': (C: C_3, 'q_0'),\n",
       " 'x_7': (I: I_3, 'p_0'),\n",
       " 'x_8': (C: C_00, 'q_0'),\n",
       " 'x_9': (I: It_2, 'p_0'),\n",
       " 'x_10': (I: It_3, 'p_0')}"
      ]
     },
     "execution_count": 29,
     "metadata": {},
     "output_type": "execute_result"
    }
   ],
   "source": [
    "model.state_vars"
   ]
  },
  {
   "cell_type": "code",
   "execution_count": null,
   "metadata": {},
   "outputs": [],
   "source": [
    "[x_0,model]=main('CircularDomain_200.cco','Kidney Vessels')"
   ]
  },
  {
   "cell_type": "code",
   "execution_count": 31,
   "metadata": {},
   "outputs": [
    {
     "data": {
      "image/png": "[encoded data removed]",
      "text/plain": [
       "<Figure size 960x720 with 1 Axes>"
      ]
     },
     "metadata": {
      "needs_background": "light"
     },
     "output_type": "display_data"
    }
   ],
   "source": [
    "import BondGraphTools as bgt\n",
    "bgt.draw(model)"
   ]
  },
  {
   "cell_type": "code",
   "execution_count": 32,
   "metadata": {},
   "outputs": [],
   "source": [
    "import BondGraphTools as bgt\n",
    "from math import sin as sin\n",
    "from math import floor as floor\n",
    "import time\n",
    "start_time = time.time()\n",
    "time_span=[0,1]\n",
    "sinus= '0<t<0.3 ? 0.1*1e-6*sin(pi*(t-floor(t))/0.3) :0'\n",
    "t, x = bgt.simulate(model, timespan=time_span, x0=x_0, dt=0.01, control_vars={'u_0':sinus})\n",
    "elapsed_time_simulation = time.time() - start_time"
   ]
  },
  {
   "cell_type": "code",
   "execution_count": 33,
   "metadata": {},
   "outputs": [
    {
     "data": {
      "text/plain": [
       "34.53644323348999"
      ]
     },
     "execution_count": 33,
     "metadata": {},
     "output_type": "execute_result"
    }
   ],
   "source": [
    "elapsed_time_simulation"
   ]
  },
  {
   "cell_type": "code",
   "execution_count": 34,
   "metadata": {},
   "outputs": [
    {
     "data": {
      "text/plain": [
       "{'x_0': (C: C_0, 'q_0'),\n",
       " 'x_1': (I: I_0, 'p_0'),\n",
       " 'x_2': (C: C_1, 'q_0'),\n",
       " 'x_3': (I: I_1, 'p_0'),\n",
       " 'x_4': (C: C_2, 'q_0'),\n",
       " 'x_5': (I: I_2, 'p_0'),\n",
       " 'x_6': (C: C_3, 'q_0'),\n",
       " 'x_7': (I: I_3, 'p_0'),\n",
       " 'x_8': (C: C_00, 'q_0'),\n",
       " 'x_9': (I: It_2, 'p_0'),\n",
       " 'x_10': (I: It_3, 'p_0')}"
      ]
     },
     "execution_count": 34,
     "metadata": {},
     "output_type": "execute_result"
    }
   ],
   "source": [
    "model.state_vars"
   ]
  },
  {
   "cell_type": "code",
   "execution_count": 35,
   "metadata": {},
   "outputs": [
    {
     "data": {
      "image/png": "[encoded data removed]",
      "text/plain": [
       "<Figure size 432x288 with 1 Axes>"
      ]
     },
     "metadata": {
      "needs_background": "light"
     },
     "output_type": "display_data"
    }
   ],
   "source": [
    "# For 5 vessels\n",
    "v_I_0=x[:,1]/(IVal[0])\n",
    "v_I_1=x[:,3]/(IVal[1])\n",
    "v_I_2=x[:,5]/(IVal[2]/2)\n",
    "v_I_3=x[:,7]/(IVal[3]/2)\n",
    "# \n",
    "import matplotlib.pyplot as plt\n",
    "for v, c, label in [(v_I_0,'crimson', 'v_I_0'),(v_I_1,'slateblue', 'v_I_1'),(v_I_2,'g', 'v_I_2'),(v_I_3,'coral', 'v_I_3')]:\n",
    "    fig=plt.plot(t,v,c, label=label)\n",
    "    plt.xlabel(\"time (s)\")\n",
    "    plt.ylabel(\"flow (m3/s)\") \n",
    "    plt.legend(loc='upper right')\n",
    "plt.grid()"
   ]
  },
  {
   "cell_type": "code",
   "execution_count": null,
   "metadata": {},
   "outputs": [],
   "source": []
  }
 ],
 "metadata": {
  "kernelspec": {
   "display_name": "Python 3",
   "language": "python",
   "name": "python3"
  },
  "language_info": {
   "codemirror_mode": {
    "name": "ipython",
    "version": 3
   },
   "file_extension": ".py",
   "mimetype": "text/x-python",
   "name": "python",
   "nbconvert_exporter": "python",
   "pygments_lexer": "ipython3",
   "version": "3.7.3"
  }
 },
 "nbformat": 4,
 "nbformat_minor": 2
}
